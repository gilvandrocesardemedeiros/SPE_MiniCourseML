{
  "nbformat": 4,
  "nbformat_minor": 0,
  "metadata": {
    "colab": {
      "name": "Projeto_Analise_Diagnostico_Motor.ipynb",
      "provenance": [],
      "collapsed_sections": [
        "51FshdRssbFh"
      ]
    },
    "kernelspec": {
      "name": "python3",
      "display_name": "Python 3"
    }
  },
  "cells": [
    {
      "cell_type": "code",
      "metadata": {
        "id": "BtPI9oWSHQKm"
      },
      "source": [
        "import numpy as np\n",
        "import pandas as pd\n",
        "import matplotlib.pyplot as plt\n",
        "import seaborn as sns"
      ],
      "execution_count": 2,
      "outputs": []
    },
    {
      "cell_type": "markdown",
      "metadata": {
        "id": "51FshdRssbFh"
      },
      "source": [
        "# Desenvolvimento de um projeto de Machine Learning\n",
        "\n",
        "Existem diversas formas de se pensar em uma solução de aprendizagem de máquina. Dentre elas, uma das mais comuns é baseada na imagem a seguir. É pensando nela que iremos estruturar esta aplicação:\n",
        "\n",
        "![workflow](https://drive.google.com/uc?id=1GW727JBslKyK3G3DRNz66J4OhLWUj_TE)\n"
      ]
    },
    {
      "cell_type": "markdown",
      "metadata": {
        "id": "CqM7uuKmdfxC"
      },
      "source": [
        "# 1 - Obtendo dados"
      ]
    },
    {
      "cell_type": "code",
      "metadata": {
        "id": "7quqyw3e9dfN"
      },
      "source": [
        "#Lendo dados\n",
        "dataBase = pd.read_csv(\"https://raw.githubusercontent.com/gilvandrocesardemedeiros/SPE_MiniCourseML/main/Oleo_Motor_Analise.csv\")"
      ],
      "execution_count": 3,
      "outputs": []
    },
    {
      "cell_type": "code",
      "metadata": {
        "colab": {
          "base_uri": "https://localhost:8080/",
          "height": 444
        },
        "id": "1qQQRaA7uVVu",
        "outputId": "d63e6ab5-8910-4f78-db5e-569531efdb1f"
      },
      "source": [
        "#Verificando visualmente os dados\n",
        "dataBase"
      ],
      "execution_count": 4,
      "outputs": [
        {
          "output_type": "execute_result",
          "data": {
            "text/html": [
              "<div>\n",
              "<style scoped>\n",
              "    .dataframe tbody tr th:only-of-type {\n",
              "        vertical-align: middle;\n",
              "    }\n",
              "\n",
              "    .dataframe tbody tr th {\n",
              "        vertical-align: top;\n",
              "    }\n",
              "\n",
              "    .dataframe thead th {\n",
              "        text-align: right;\n",
              "    }\n",
              "</style>\n",
              "<table border=\"1\" class=\"dataframe\">\n",
              "  <thead>\n",
              "    <tr style=\"text-align: right;\">\n",
              "      <th></th>\n",
              "      <th>Km Atual</th>\n",
              "      <th>Km Troca</th>\n",
              "      <th>Fe</th>\n",
              "      <th>Cr</th>\n",
              "      <th>Pb</th>\n",
              "      <th>Cu</th>\n",
              "      <th>Sn</th>\n",
              "      <th>Al</th>\n",
              "      <th>Ni</th>\n",
              "      <th>Ag</th>\n",
              "      <th>Si</th>\n",
              "      <th>B</th>\n",
              "      <th>Na</th>\n",
              "      <th>Mg</th>\n",
              "      <th>Ca</th>\n",
              "      <th>Ba</th>\n",
              "      <th>P</th>\n",
              "      <th>Zn</th>\n",
              "      <th>Mo</th>\n",
              "      <th>Ti</th>\n",
              "      <th>V</th>\n",
              "      <th>K</th>\n",
              "      <th>Oxi</th>\n",
              "      <th>Nit</th>\n",
              "      <th>Sul</th>\n",
              "      <th>Ful</th>\n",
              "      <th>Agu</th>\n",
              "      <th>Gli</th>\n",
              "      <th>Dil</th>\n",
              "      <th>DiagComb</th>\n",
              "      <th>DiagCont</th>\n",
              "      <th>DiagCorr</th>\n",
              "    </tr>\n",
              "  </thead>\n",
              "  <tbody>\n",
              "    <tr>\n",
              "      <th>0</th>\n",
              "      <td>88898.000000</td>\n",
              "      <td>14185.000000</td>\n",
              "      <td>87.000000</td>\n",
              "      <td>15.000000</td>\n",
              "      <td>7.000000</td>\n",
              "      <td>8.000000</td>\n",
              "      <td>8.000000</td>\n",
              "      <td>2.000000</td>\n",
              "      <td>0.000000</td>\n",
              "      <td>0.0</td>\n",
              "      <td>7.000000</td>\n",
              "      <td>0.0</td>\n",
              "      <td>196.000000</td>\n",
              "      <td>586.000000</td>\n",
              "      <td>1305.000000</td>\n",
              "      <td>0.000000</td>\n",
              "      <td>952.000000</td>\n",
              "      <td>1182.000000</td>\n",
              "      <td>0.000000</td>\n",
              "      <td>0.0</td>\n",
              "      <td>0.0</td>\n",
              "      <td>4.000000</td>\n",
              "      <td>0.030000</td>\n",
              "      <td>0.060000</td>\n",
              "      <td>0.210000</td>\n",
              "      <td>1.130000</td>\n",
              "      <td>0.1</td>\n",
              "      <td>0.08</td>\n",
              "      <td>2.0</td>\n",
              "      <td>0</td>\n",
              "      <td>0</td>\n",
              "      <td>0</td>\n",
              "    </tr>\n",
              "    <tr>\n",
              "      <th>1</th>\n",
              "      <td>100314.000000</td>\n",
              "      <td>14805.000000</td>\n",
              "      <td>99.000000</td>\n",
              "      <td>21.000000</td>\n",
              "      <td>10.000000</td>\n",
              "      <td>8.000000</td>\n",
              "      <td>10.000000</td>\n",
              "      <td>2.000000</td>\n",
              "      <td>0.000000</td>\n",
              "      <td>0.0</td>\n",
              "      <td>7.000000</td>\n",
              "      <td>0.0</td>\n",
              "      <td>193.000000</td>\n",
              "      <td>558.000000</td>\n",
              "      <td>1284.000000</td>\n",
              "      <td>0.000000</td>\n",
              "      <td>949.000000</td>\n",
              "      <td>1177.000000</td>\n",
              "      <td>0.000000</td>\n",
              "      <td>0.0</td>\n",
              "      <td>0.0</td>\n",
              "      <td>5.000000</td>\n",
              "      <td>0.050000</td>\n",
              "      <td>0.090000</td>\n",
              "      <td>0.250000</td>\n",
              "      <td>1.500000</td>\n",
              "      <td>0.1</td>\n",
              "      <td>0.08</td>\n",
              "      <td>2.0</td>\n",
              "      <td>1</td>\n",
              "      <td>0</td>\n",
              "      <td>0</td>\n",
              "    </tr>\n",
              "    <tr>\n",
              "      <th>2</th>\n",
              "      <td>436880.000000</td>\n",
              "      <td>3637.000000</td>\n",
              "      <td>146.000000</td>\n",
              "      <td>5.000000</td>\n",
              "      <td>13.000000</td>\n",
              "      <td>5.000000</td>\n",
              "      <td>6.000000</td>\n",
              "      <td>15.000000</td>\n",
              "      <td>1.000000</td>\n",
              "      <td>0.0</td>\n",
              "      <td>15.000000</td>\n",
              "      <td>0.0</td>\n",
              "      <td>242.000000</td>\n",
              "      <td>676.000000</td>\n",
              "      <td>1167.000000</td>\n",
              "      <td>0.000000</td>\n",
              "      <td>1038.000000</td>\n",
              "      <td>1317.000000</td>\n",
              "      <td>9.000000</td>\n",
              "      <td>0.0</td>\n",
              "      <td>0.0</td>\n",
              "      <td>7.000000</td>\n",
              "      <td>0.030000</td>\n",
              "      <td>0.030000</td>\n",
              "      <td>0.070000</td>\n",
              "      <td>0.450000</td>\n",
              "      <td>0.1</td>\n",
              "      <td>0.08</td>\n",
              "      <td>2.0</td>\n",
              "      <td>0</td>\n",
              "      <td>0</td>\n",
              "      <td>0</td>\n",
              "    </tr>\n",
              "    <tr>\n",
              "      <th>3</th>\n",
              "      <td>440134.000000</td>\n",
              "      <td>7124.000000</td>\n",
              "      <td>181.000000</td>\n",
              "      <td>6.000000</td>\n",
              "      <td>18.000000</td>\n",
              "      <td>4.000000</td>\n",
              "      <td>7.000000</td>\n",
              "      <td>14.000000</td>\n",
              "      <td>1.000000</td>\n",
              "      <td>0.0</td>\n",
              "      <td>17.000000</td>\n",
              "      <td>0.0</td>\n",
              "      <td>269.000000</td>\n",
              "      <td>846.000000</td>\n",
              "      <td>1386.000000</td>\n",
              "      <td>0.000000</td>\n",
              "      <td>1233.000000</td>\n",
              "      <td>1456.000000</td>\n",
              "      <td>11.000000</td>\n",
              "      <td>0.0</td>\n",
              "      <td>0.0</td>\n",
              "      <td>7.000000</td>\n",
              "      <td>0.030000</td>\n",
              "      <td>0.040000</td>\n",
              "      <td>0.090000</td>\n",
              "      <td>0.480000</td>\n",
              "      <td>0.1</td>\n",
              "      <td>0.08</td>\n",
              "      <td>2.0</td>\n",
              "      <td>0</td>\n",
              "      <td>0</td>\n",
              "      <td>0</td>\n",
              "    </tr>\n",
              "    <tr>\n",
              "      <th>4</th>\n",
              "      <td>446273.000000</td>\n",
              "      <td>5962.000000</td>\n",
              "      <td>243.000000</td>\n",
              "      <td>10.000000</td>\n",
              "      <td>34.000000</td>\n",
              "      <td>11.000000</td>\n",
              "      <td>9.000000</td>\n",
              "      <td>24.000000</td>\n",
              "      <td>1.000000</td>\n",
              "      <td>0.0</td>\n",
              "      <td>24.000000</td>\n",
              "      <td>0.0</td>\n",
              "      <td>261.000000</td>\n",
              "      <td>784.000000</td>\n",
              "      <td>1235.000000</td>\n",
              "      <td>0.000000</td>\n",
              "      <td>1146.000000</td>\n",
              "      <td>1430.000000</td>\n",
              "      <td>19.000000</td>\n",
              "      <td>0.0</td>\n",
              "      <td>0.0</td>\n",
              "      <td>5.000000</td>\n",
              "      <td>0.090000</td>\n",
              "      <td>0.100000</td>\n",
              "      <td>0.220000</td>\n",
              "      <td>1.170000</td>\n",
              "      <td>0.1</td>\n",
              "      <td>0.08</td>\n",
              "      <td>2.0</td>\n",
              "      <td>0</td>\n",
              "      <td>0</td>\n",
              "      <td>1</td>\n",
              "    </tr>\n",
              "    <tr>\n",
              "      <th>...</th>\n",
              "      <td>...</td>\n",
              "      <td>...</td>\n",
              "      <td>...</td>\n",
              "      <td>...</td>\n",
              "      <td>...</td>\n",
              "      <td>...</td>\n",
              "      <td>...</td>\n",
              "      <td>...</td>\n",
              "      <td>...</td>\n",
              "      <td>...</td>\n",
              "      <td>...</td>\n",
              "      <td>...</td>\n",
              "      <td>...</td>\n",
              "      <td>...</td>\n",
              "      <td>...</td>\n",
              "      <td>...</td>\n",
              "      <td>...</td>\n",
              "      <td>...</td>\n",
              "      <td>...</td>\n",
              "      <td>...</td>\n",
              "      <td>...</td>\n",
              "      <td>...</td>\n",
              "      <td>...</td>\n",
              "      <td>...</td>\n",
              "      <td>...</td>\n",
              "      <td>...</td>\n",
              "      <td>...</td>\n",
              "      <td>...</td>\n",
              "      <td>...</td>\n",
              "      <td>...</td>\n",
              "      <td>...</td>\n",
              "      <td>...</td>\n",
              "    </tr>\n",
              "    <tr>\n",
              "      <th>4480</th>\n",
              "      <td>340689.638719</td>\n",
              "      <td>8462.965819</td>\n",
              "      <td>337.624900</td>\n",
              "      <td>11.095347</td>\n",
              "      <td>36.667429</td>\n",
              "      <td>45.906368</td>\n",
              "      <td>11.714531</td>\n",
              "      <td>28.715102</td>\n",
              "      <td>0.476163</td>\n",
              "      <td>0.0</td>\n",
              "      <td>34.524408</td>\n",
              "      <td>0.0</td>\n",
              "      <td>236.089059</td>\n",
              "      <td>527.890362</td>\n",
              "      <td>2157.948098</td>\n",
              "      <td>15.715102</td>\n",
              "      <td>1242.997142</td>\n",
              "      <td>1660.421058</td>\n",
              "      <td>34.906368</td>\n",
              "      <td>0.0</td>\n",
              "      <td>0.0</td>\n",
              "      <td>4.333143</td>\n",
              "      <td>0.176669</td>\n",
              "      <td>0.215238</td>\n",
              "      <td>0.372860</td>\n",
              "      <td>1.961907</td>\n",
              "      <td>0.1</td>\n",
              "      <td>0.08</td>\n",
              "      <td>2.0</td>\n",
              "      <td>2</td>\n",
              "      <td>2</td>\n",
              "      <td>2</td>\n",
              "    </tr>\n",
              "    <tr>\n",
              "      <th>4481</th>\n",
              "      <td>358828.596593</td>\n",
              "      <td>16762.395920</td>\n",
              "      <td>418.295986</td>\n",
              "      <td>15.095678</td>\n",
              "      <td>112.035070</td>\n",
              "      <td>26.375169</td>\n",
              "      <td>15.604988</td>\n",
              "      <td>24.857162</td>\n",
              "      <td>4.120965</td>\n",
              "      <td>0.0</td>\n",
              "      <td>20.366472</td>\n",
              "      <td>0.0</td>\n",
              "      <td>281.241196</td>\n",
              "      <td>771.569282</td>\n",
              "      <td>1211.068948</td>\n",
              "      <td>0.000000</td>\n",
              "      <td>1117.575599</td>\n",
              "      <td>1439.684292</td>\n",
              "      <td>28.984957</td>\n",
              "      <td>0.0</td>\n",
              "      <td>0.0</td>\n",
              "      <td>5.877327</td>\n",
              "      <td>0.113783</td>\n",
              "      <td>0.157463</td>\n",
              "      <td>0.291312</td>\n",
              "      <td>1.701169</td>\n",
              "      <td>0.1</td>\n",
              "      <td>0.08</td>\n",
              "      <td>2.0</td>\n",
              "      <td>1</td>\n",
              "      <td>0</td>\n",
              "      <td>2</td>\n",
              "    </tr>\n",
              "    <tr>\n",
              "      <th>4482</th>\n",
              "      <td>345289.399601</td>\n",
              "      <td>7685.595140</td>\n",
              "      <td>263.110992</td>\n",
              "      <td>9.709042</td>\n",
              "      <td>26.963292</td>\n",
              "      <td>25.458365</td>\n",
              "      <td>8.595344</td>\n",
              "      <td>18.317813</td>\n",
              "      <td>0.822740</td>\n",
              "      <td>0.0</td>\n",
              "      <td>26.899729</td>\n",
              "      <td>0.0</td>\n",
              "      <td>314.761883</td>\n",
              "      <td>711.229234</td>\n",
              "      <td>1606.198601</td>\n",
              "      <td>5.317813</td>\n",
              "      <td>1279.387655</td>\n",
              "      <td>1756.076122</td>\n",
              "      <td>14.458365</td>\n",
              "      <td>0.0</td>\n",
              "      <td>0.0</td>\n",
              "      <td>6.759177</td>\n",
              "      <td>0.152408</td>\n",
              "      <td>0.211773</td>\n",
              "      <td>0.331271</td>\n",
              "      <td>1.934181</td>\n",
              "      <td>0.1</td>\n",
              "      <td>0.08</td>\n",
              "      <td>2.0</td>\n",
              "      <td>2</td>\n",
              "      <td>2</td>\n",
              "      <td>2</td>\n",
              "    </tr>\n",
              "    <tr>\n",
              "      <th>4483</th>\n",
              "      <td>343901.224636</td>\n",
              "      <td>7920.200056</td>\n",
              "      <td>285.598757</td>\n",
              "      <td>10.127419</td>\n",
              "      <td>29.891931</td>\n",
              "      <td>31.629426</td>\n",
              "      <td>9.536692</td>\n",
              "      <td>21.455641</td>\n",
              "      <td>0.718145</td>\n",
              "      <td>0.0</td>\n",
              "      <td>29.200803</td>\n",
              "      <td>0.0</td>\n",
              "      <td>291.018987</td>\n",
              "      <td>655.898872</td>\n",
              "      <td>1772.712657</td>\n",
              "      <td>8.455641</td>\n",
              "      <td>1268.405258</td>\n",
              "      <td>1727.208107</td>\n",
              "      <td>20.629426</td>\n",
              "      <td>0.0</td>\n",
              "      <td>0.0</td>\n",
              "      <td>6.027017</td>\n",
              "      <td>0.159730</td>\n",
              "      <td>0.212819</td>\n",
              "      <td>0.343823</td>\n",
              "      <td>1.942548</td>\n",
              "      <td>0.1</td>\n",
              "      <td>0.08</td>\n",
              "      <td>2.0</td>\n",
              "      <td>2</td>\n",
              "      <td>2</td>\n",
              "      <td>2</td>\n",
              "    </tr>\n",
              "    <tr>\n",
              "      <th>4484</th>\n",
              "      <td>344723.486599</td>\n",
              "      <td>7781.235802</td>\n",
              "      <td>272.278510</td>\n",
              "      <td>9.879600</td>\n",
              "      <td>28.157201</td>\n",
              "      <td>27.974103</td>\n",
              "      <td>8.979100</td>\n",
              "      <td>19.597001</td>\n",
              "      <td>0.780100</td>\n",
              "      <td>0.0</td>\n",
              "      <td>27.837801</td>\n",
              "      <td>0.0</td>\n",
              "      <td>305.082690</td>\n",
              "      <td>688.672876</td>\n",
              "      <td>1674.080872</td>\n",
              "      <td>6.597001</td>\n",
              "      <td>1274.910495</td>\n",
              "      <td>1744.307588</td>\n",
              "      <td>16.974103</td>\n",
              "      <td>0.0</td>\n",
              "      <td>0.0</td>\n",
              "      <td>6.460700</td>\n",
              "      <td>0.155393</td>\n",
              "      <td>0.212199</td>\n",
              "      <td>0.336388</td>\n",
              "      <td>1.937592</td>\n",
              "      <td>0.1</td>\n",
              "      <td>0.08</td>\n",
              "      <td>2.0</td>\n",
              "      <td>2</td>\n",
              "      <td>2</td>\n",
              "      <td>2</td>\n",
              "    </tr>\n",
              "  </tbody>\n",
              "</table>\n",
              "<p>4485 rows × 32 columns</p>\n",
              "</div>"
            ],
            "text/plain": [
              "           Km Atual      Km Troca          Fe  ...  DiagComb  DiagCont  DiagCorr\n",
              "0      88898.000000  14185.000000   87.000000  ...         0         0         0\n",
              "1     100314.000000  14805.000000   99.000000  ...         1         0         0\n",
              "2     436880.000000   3637.000000  146.000000  ...         0         0         0\n",
              "3     440134.000000   7124.000000  181.000000  ...         0         0         0\n",
              "4     446273.000000   5962.000000  243.000000  ...         0         0         1\n",
              "...             ...           ...         ...  ...       ...       ...       ...\n",
              "4480  340689.638719   8462.965819  337.624900  ...         2         2         2\n",
              "4481  358828.596593  16762.395920  418.295986  ...         1         0         2\n",
              "4482  345289.399601   7685.595140  263.110992  ...         2         2         2\n",
              "4483  343901.224636   7920.200056  285.598757  ...         2         2         2\n",
              "4484  344723.486599   7781.235802  272.278510  ...         2         2         2\n",
              "\n",
              "[4485 rows x 32 columns]"
            ]
          },
          "metadata": {},
          "execution_count": 4
        }
      ]
    },
    {
      "cell_type": "code",
      "metadata": {
        "colab": {
          "base_uri": "https://localhost:8080/"
        },
        "id": "mgT1rpIr1Vw0",
        "outputId": "bfaae40a-9411-441a-ee85-aa4fefa8644d"
      },
      "source": [
        "dataBase.info()"
      ],
      "execution_count": 5,
      "outputs": [
        {
          "output_type": "stream",
          "name": "stdout",
          "text": [
            "<class 'pandas.core.frame.DataFrame'>\n",
            "RangeIndex: 4485 entries, 0 to 4484\n",
            "Data columns (total 32 columns):\n",
            " #   Column    Non-Null Count  Dtype  \n",
            "---  ------    --------------  -----  \n",
            " 0   Km Atual  4485 non-null   float64\n",
            " 1   Km Troca  4485 non-null   float64\n",
            " 2   Fe        4485 non-null   float64\n",
            " 3   Cr        4485 non-null   float64\n",
            " 4   Pb        4485 non-null   float64\n",
            " 5   Cu        4485 non-null   float64\n",
            " 6   Sn        4485 non-null   float64\n",
            " 7   Al        4485 non-null   float64\n",
            " 8   Ni        4485 non-null   float64\n",
            " 9   Ag        4485 non-null   float64\n",
            " 10  Si        4485 non-null   float64\n",
            " 11  B         4485 non-null   float64\n",
            " 12  Na        4485 non-null   float64\n",
            " 13  Mg        4485 non-null   float64\n",
            " 14  Ca        4485 non-null   float64\n",
            " 15  Ba        4485 non-null   float64\n",
            " 16  P         4485 non-null   float64\n",
            " 17  Zn        4485 non-null   float64\n",
            " 18  Mo        4485 non-null   float64\n",
            " 19  Ti        4485 non-null   float64\n",
            " 20  V         4485 non-null   float64\n",
            " 21  K         4485 non-null   float64\n",
            " 22  Oxi       4485 non-null   float64\n",
            " 23  Nit       4485 non-null   float64\n",
            " 24  Sul       4485 non-null   float64\n",
            " 25  Ful       4485 non-null   float64\n",
            " 26  Agu       4485 non-null   float64\n",
            " 27  Gli       4485 non-null   float64\n",
            " 28  Dil       4485 non-null   float64\n",
            " 29  DiagComb  4485 non-null   int64  \n",
            " 30  DiagCont  4485 non-null   int64  \n",
            " 31  DiagCorr  4485 non-null   int64  \n",
            "dtypes: float64(29), int64(3)\n",
            "memory usage: 1.1 MB\n"
          ]
        }
      ]
    },
    {
      "cell_type": "code",
      "metadata": {
        "id": "jVZ97KBrXIG9",
        "colab": {
          "base_uri": "https://localhost:8080/",
          "height": 1000
        },
        "outputId": "a504ad65-0561-43bd-e28d-a7e4fc93e2c0"
      },
      "source": [
        "#Explorando os dados numéricos\n",
        "dataBase.describe().T"
      ],
      "execution_count": 6,
      "outputs": [
        {
          "output_type": "execute_result",
          "data": {
            "text/html": [
              "<div>\n",
              "<style scoped>\n",
              "    .dataframe tbody tr th:only-of-type {\n",
              "        vertical-align: middle;\n",
              "    }\n",
              "\n",
              "    .dataframe tbody tr th {\n",
              "        vertical-align: top;\n",
              "    }\n",
              "\n",
              "    .dataframe thead th {\n",
              "        text-align: right;\n",
              "    }\n",
              "</style>\n",
              "<table border=\"1\" class=\"dataframe\">\n",
              "  <thead>\n",
              "    <tr style=\"text-align: right;\">\n",
              "      <th></th>\n",
              "      <th>count</th>\n",
              "      <th>mean</th>\n",
              "      <th>std</th>\n",
              "      <th>min</th>\n",
              "      <th>25%</th>\n",
              "      <th>50%</th>\n",
              "      <th>75%</th>\n",
              "      <th>max</th>\n",
              "    </tr>\n",
              "  </thead>\n",
              "  <tbody>\n",
              "    <tr>\n",
              "      <th>Km Atual</th>\n",
              "      <td>4485.0</td>\n",
              "      <td>344280.276429</td>\n",
              "      <td>92458.536734</td>\n",
              "      <td>27752.00</td>\n",
              "      <td>301737.000000</td>\n",
              "      <td>340864.074402</td>\n",
              "      <td>376652.374841</td>\n",
              "      <td>883564.00</td>\n",
              "    </tr>\n",
              "    <tr>\n",
              "      <th>Km Troca</th>\n",
              "      <td>4485.0</td>\n",
              "      <td>11079.430260</td>\n",
              "      <td>3443.968920</td>\n",
              "      <td>1619.00</td>\n",
              "      <td>8761.576636</td>\n",
              "      <td>10250.849963</td>\n",
              "      <td>12966.000000</td>\n",
              "      <td>52697.00</td>\n",
              "    </tr>\n",
              "    <tr>\n",
              "      <th>Fe</th>\n",
              "      <td>4485.0</td>\n",
              "      <td>180.296705</td>\n",
              "      <td>103.260737</td>\n",
              "      <td>11.00</td>\n",
              "      <td>97.896549</td>\n",
              "      <td>166.647703</td>\n",
              "      <td>223.129934</td>\n",
              "      <td>542.00</td>\n",
              "    </tr>\n",
              "    <tr>\n",
              "      <th>Cr</th>\n",
              "      <td>4485.0</td>\n",
              "      <td>7.055411</td>\n",
              "      <td>5.343220</td>\n",
              "      <td>0.00</td>\n",
              "      <td>3.092565</td>\n",
              "      <td>5.702703</td>\n",
              "      <td>9.213946</td>\n",
              "      <td>31.00</td>\n",
              "    </tr>\n",
              "    <tr>\n",
              "      <th>Pb</th>\n",
              "      <td>4485.0</td>\n",
              "      <td>25.965130</td>\n",
              "      <td>20.318425</td>\n",
              "      <td>0.00</td>\n",
              "      <td>11.136919</td>\n",
              "      <td>22.253266</td>\n",
              "      <td>35.014602</td>\n",
              "      <td>127.00</td>\n",
              "    </tr>\n",
              "    <tr>\n",
              "      <th>Cu</th>\n",
              "      <td>4485.0</td>\n",
              "      <td>16.472495</td>\n",
              "      <td>16.224277</td>\n",
              "      <td>1.00</td>\n",
              "      <td>6.238038</td>\n",
              "      <td>10.553467</td>\n",
              "      <td>16.160023</td>\n",
              "      <td>74.00</td>\n",
              "    </tr>\n",
              "    <tr>\n",
              "      <th>Sn</th>\n",
              "      <td>4485.0</td>\n",
              "      <td>7.163284</td>\n",
              "      <td>4.208677</td>\n",
              "      <td>0.00</td>\n",
              "      <td>4.155775</td>\n",
              "      <td>6.043939</td>\n",
              "      <td>8.898337</td>\n",
              "      <td>27.00</td>\n",
              "    </tr>\n",
              "    <tr>\n",
              "      <th>Al</th>\n",
              "      <td>4485.0</td>\n",
              "      <td>14.466504</td>\n",
              "      <td>9.036329</td>\n",
              "      <td>1.00</td>\n",
              "      <td>8.200609</td>\n",
              "      <td>11.391475</td>\n",
              "      <td>18.092174</td>\n",
              "      <td>43.00</td>\n",
              "    </tr>\n",
              "    <tr>\n",
              "      <th>Ni</th>\n",
              "      <td>4485.0</td>\n",
              "      <td>0.869779</td>\n",
              "      <td>0.912381</td>\n",
              "      <td>0.00</td>\n",
              "      <td>0.101371</td>\n",
              "      <td>0.738467</td>\n",
              "      <td>1.036999</td>\n",
              "      <td>5.00</td>\n",
              "    </tr>\n",
              "    <tr>\n",
              "      <th>Ag</th>\n",
              "      <td>4485.0</td>\n",
              "      <td>0.020196</td>\n",
              "      <td>0.267064</td>\n",
              "      <td>0.00</td>\n",
              "      <td>0.000000</td>\n",
              "      <td>0.000000</td>\n",
              "      <td>0.000000</td>\n",
              "      <td>7.00</td>\n",
              "    </tr>\n",
              "    <tr>\n",
              "      <th>Si</th>\n",
              "      <td>4485.0</td>\n",
              "      <td>17.885583</td>\n",
              "      <td>9.410910</td>\n",
              "      <td>4.00</td>\n",
              "      <td>10.430859</td>\n",
              "      <td>15.075959</td>\n",
              "      <td>24.759150</td>\n",
              "      <td>45.00</td>\n",
              "    </tr>\n",
              "    <tr>\n",
              "      <th>B</th>\n",
              "      <td>4485.0</td>\n",
              "      <td>0.742404</td>\n",
              "      <td>2.632040</td>\n",
              "      <td>0.00</td>\n",
              "      <td>0.000000</td>\n",
              "      <td>0.000000</td>\n",
              "      <td>0.000000</td>\n",
              "      <td>64.00</td>\n",
              "    </tr>\n",
              "    <tr>\n",
              "      <th>Na</th>\n",
              "      <td>4485.0</td>\n",
              "      <td>184.831170</td>\n",
              "      <td>92.953171</td>\n",
              "      <td>1.00</td>\n",
              "      <td>111.735089</td>\n",
              "      <td>209.362960</td>\n",
              "      <td>254.111666</td>\n",
              "      <td>400.00</td>\n",
              "    </tr>\n",
              "    <tr>\n",
              "      <th>Mg</th>\n",
              "      <td>4485.0</td>\n",
              "      <td>485.530212</td>\n",
              "      <td>249.278597</td>\n",
              "      <td>15.00</td>\n",
              "      <td>266.607801</td>\n",
              "      <td>549.334582</td>\n",
              "      <td>703.610785</td>\n",
              "      <td>1037.00</td>\n",
              "    </tr>\n",
              "    <tr>\n",
              "      <th>Ca</th>\n",
              "      <td>4485.0</td>\n",
              "      <td>1692.162402</td>\n",
              "      <td>627.881919</td>\n",
              "      <td>452.00</td>\n",
              "      <td>1184.402470</td>\n",
              "      <td>1508.656444</td>\n",
              "      <td>2221.629301</td>\n",
              "      <td>3828.00</td>\n",
              "    </tr>\n",
              "    <tr>\n",
              "      <th>Ba</th>\n",
              "      <td>4485.0</td>\n",
              "      <td>2.554167</td>\n",
              "      <td>6.810303</td>\n",
              "      <td>0.00</td>\n",
              "      <td>0.000000</td>\n",
              "      <td>0.000000</td>\n",
              "      <td>0.000000</td>\n",
              "      <td>30.00</td>\n",
              "    </tr>\n",
              "    <tr>\n",
              "      <th>P</th>\n",
              "      <td>4485.0</td>\n",
              "      <td>974.840427</td>\n",
              "      <td>214.134327</td>\n",
              "      <td>268.00</td>\n",
              "      <td>870.650914</td>\n",
              "      <td>1010.000000</td>\n",
              "      <td>1134.332712</td>\n",
              "      <td>1429.00</td>\n",
              "    </tr>\n",
              "    <tr>\n",
              "      <th>Zn</th>\n",
              "      <td>4485.0</td>\n",
              "      <td>1257.458081</td>\n",
              "      <td>289.644997</td>\n",
              "      <td>340.00</td>\n",
              "      <td>1116.500510</td>\n",
              "      <td>1288.410808</td>\n",
              "      <td>1453.000000</td>\n",
              "      <td>2004.00</td>\n",
              "    </tr>\n",
              "    <tr>\n",
              "      <th>Mo</th>\n",
              "      <td>4485.0</td>\n",
              "      <td>15.962282</td>\n",
              "      <td>13.888252</td>\n",
              "      <td>0.00</td>\n",
              "      <td>6.196195</td>\n",
              "      <td>11.240684</td>\n",
              "      <td>20.941024</td>\n",
              "      <td>63.00</td>\n",
              "    </tr>\n",
              "    <tr>\n",
              "      <th>Ti</th>\n",
              "      <td>4485.0</td>\n",
              "      <td>0.001314</td>\n",
              "      <td>0.033379</td>\n",
              "      <td>0.00</td>\n",
              "      <td>0.000000</td>\n",
              "      <td>0.000000</td>\n",
              "      <td>0.000000</td>\n",
              "      <td>1.00</td>\n",
              "    </tr>\n",
              "    <tr>\n",
              "      <th>V</th>\n",
              "      <td>4485.0</td>\n",
              "      <td>0.000513</td>\n",
              "      <td>0.020502</td>\n",
              "      <td>0.00</td>\n",
              "      <td>0.000000</td>\n",
              "      <td>0.000000</td>\n",
              "      <td>0.000000</td>\n",
              "      <td>1.00</td>\n",
              "    </tr>\n",
              "    <tr>\n",
              "      <th>K</th>\n",
              "      <td>4485.0</td>\n",
              "      <td>5.232649</td>\n",
              "      <td>3.126243</td>\n",
              "      <td>0.00</td>\n",
              "      <td>3.073998</td>\n",
              "      <td>5.159153</td>\n",
              "      <td>6.803765</td>\n",
              "      <td>24.00</td>\n",
              "    </tr>\n",
              "    <tr>\n",
              "      <th>Oxi</th>\n",
              "      <td>4485.0</td>\n",
              "      <td>0.115149</td>\n",
              "      <td>0.048201</td>\n",
              "      <td>0.01</td>\n",
              "      <td>0.079614</td>\n",
              "      <td>0.110000</td>\n",
              "      <td>0.145937</td>\n",
              "      <td>0.38</td>\n",
              "    </tr>\n",
              "    <tr>\n",
              "      <th>Nit</th>\n",
              "      <td>4485.0</td>\n",
              "      <td>0.148337</td>\n",
              "      <td>0.058375</td>\n",
              "      <td>0.01</td>\n",
              "      <td>0.100000</td>\n",
              "      <td>0.157205</td>\n",
              "      <td>0.204752</td>\n",
              "      <td>0.61</td>\n",
              "    </tr>\n",
              "    <tr>\n",
              "      <th>Sul</th>\n",
              "      <td>4485.0</td>\n",
              "      <td>0.226951</td>\n",
              "      <td>0.088191</td>\n",
              "      <td>0.01</td>\n",
              "      <td>0.152945</td>\n",
              "      <td>0.220000</td>\n",
              "      <td>0.297706</td>\n",
              "      <td>0.43</td>\n",
              "    </tr>\n",
              "    <tr>\n",
              "      <th>Ful</th>\n",
              "      <td>4485.0</td>\n",
              "      <td>1.281492</td>\n",
              "      <td>0.655892</td>\n",
              "      <td>-0.00</td>\n",
              "      <td>0.625887</td>\n",
              "      <td>1.404514</td>\n",
              "      <td>1.848169</td>\n",
              "      <td>2.50</td>\n",
              "    </tr>\n",
              "    <tr>\n",
              "      <th>Agu</th>\n",
              "      <td>4485.0</td>\n",
              "      <td>0.106336</td>\n",
              "      <td>0.083006</td>\n",
              "      <td>0.10</td>\n",
              "      <td>0.100000</td>\n",
              "      <td>0.100000</td>\n",
              "      <td>0.100000</td>\n",
              "      <td>2.00</td>\n",
              "    </tr>\n",
              "    <tr>\n",
              "      <th>Gli</th>\n",
              "      <td>4485.0</td>\n",
              "      <td>0.080084</td>\n",
              "      <td>0.002908</td>\n",
              "      <td>0.08</td>\n",
              "      <td>0.080000</td>\n",
              "      <td>0.080000</td>\n",
              "      <td>0.080000</td>\n",
              "      <td>0.23</td>\n",
              "    </tr>\n",
              "    <tr>\n",
              "      <th>Dil</th>\n",
              "      <td>4485.0</td>\n",
              "      <td>2.281971</td>\n",
              "      <td>1.124472</td>\n",
              "      <td>2.00</td>\n",
              "      <td>2.000000</td>\n",
              "      <td>2.000000</td>\n",
              "      <td>2.000000</td>\n",
              "      <td>10.00</td>\n",
              "    </tr>\n",
              "    <tr>\n",
              "      <th>DiagComb</th>\n",
              "      <td>4485.0</td>\n",
              "      <td>0.876923</td>\n",
              "      <td>0.815503</td>\n",
              "      <td>0.00</td>\n",
              "      <td>0.000000</td>\n",
              "      <td>1.000000</td>\n",
              "      <td>2.000000</td>\n",
              "      <td>2.00</td>\n",
              "    </tr>\n",
              "    <tr>\n",
              "      <th>DiagCont</th>\n",
              "      <td>4485.0</td>\n",
              "      <td>0.597770</td>\n",
              "      <td>0.740744</td>\n",
              "      <td>0.00</td>\n",
              "      <td>0.000000</td>\n",
              "      <td>0.000000</td>\n",
              "      <td>1.000000</td>\n",
              "      <td>2.00</td>\n",
              "    </tr>\n",
              "    <tr>\n",
              "      <th>DiagCorr</th>\n",
              "      <td>4485.0</td>\n",
              "      <td>0.709030</td>\n",
              "      <td>0.770104</td>\n",
              "      <td>0.00</td>\n",
              "      <td>0.000000</td>\n",
              "      <td>1.000000</td>\n",
              "      <td>1.000000</td>\n",
              "      <td>2.00</td>\n",
              "    </tr>\n",
              "  </tbody>\n",
              "</table>\n",
              "</div>"
            ],
            "text/plain": [
              "           count           mean  ...            75%        max\n",
              "Km Atual  4485.0  344280.276429  ...  376652.374841  883564.00\n",
              "Km Troca  4485.0   11079.430260  ...   12966.000000   52697.00\n",
              "Fe        4485.0     180.296705  ...     223.129934     542.00\n",
              "Cr        4485.0       7.055411  ...       9.213946      31.00\n",
              "Pb        4485.0      25.965130  ...      35.014602     127.00\n",
              "Cu        4485.0      16.472495  ...      16.160023      74.00\n",
              "Sn        4485.0       7.163284  ...       8.898337      27.00\n",
              "Al        4485.0      14.466504  ...      18.092174      43.00\n",
              "Ni        4485.0       0.869779  ...       1.036999       5.00\n",
              "Ag        4485.0       0.020196  ...       0.000000       7.00\n",
              "Si        4485.0      17.885583  ...      24.759150      45.00\n",
              "B         4485.0       0.742404  ...       0.000000      64.00\n",
              "Na        4485.0     184.831170  ...     254.111666     400.00\n",
              "Mg        4485.0     485.530212  ...     703.610785    1037.00\n",
              "Ca        4485.0    1692.162402  ...    2221.629301    3828.00\n",
              "Ba        4485.0       2.554167  ...       0.000000      30.00\n",
              "P         4485.0     974.840427  ...    1134.332712    1429.00\n",
              "Zn        4485.0    1257.458081  ...    1453.000000    2004.00\n",
              "Mo        4485.0      15.962282  ...      20.941024      63.00\n",
              "Ti        4485.0       0.001314  ...       0.000000       1.00\n",
              "V         4485.0       0.000513  ...       0.000000       1.00\n",
              "K         4485.0       5.232649  ...       6.803765      24.00\n",
              "Oxi       4485.0       0.115149  ...       0.145937       0.38\n",
              "Nit       4485.0       0.148337  ...       0.204752       0.61\n",
              "Sul       4485.0       0.226951  ...       0.297706       0.43\n",
              "Ful       4485.0       1.281492  ...       1.848169       2.50\n",
              "Agu       4485.0       0.106336  ...       0.100000       2.00\n",
              "Gli       4485.0       0.080084  ...       0.080000       0.23\n",
              "Dil       4485.0       2.281971  ...       2.000000      10.00\n",
              "DiagComb  4485.0       0.876923  ...       2.000000       2.00\n",
              "DiagCont  4485.0       0.597770  ...       1.000000       2.00\n",
              "DiagCorr  4485.0       0.709030  ...       1.000000       2.00\n",
              "\n",
              "[32 rows x 8 columns]"
            ]
          },
          "metadata": {},
          "execution_count": 6
        }
      ]
    },
    {
      "cell_type": "markdown",
      "metadata": {
        "id": "cAZDAIsvxVku"
      },
      "source": [
        "# 2 - Limpeza e preparação de dados"
      ]
    },
    {
      "cell_type": "code",
      "metadata": {
        "id": "N4q7MeWyEmU-"
      },
      "source": [
        "#Seus dados às vezes podem esconder informações que podem também ser úteis para o modelo\n",
        "dataBase[\"Kms_Rodados\"] = dataBase['Km Atual'] - dataBase['Km Troca']"
      ],
      "execution_count": 7,
      "outputs": []
    },
    {
      "cell_type": "code",
      "metadata": {
        "id": "6D0jI-JkpZvN"
      },
      "source": [
        "#Eliminando colunas \"Km Atual\" e \"Km Troca\" da base de dados\n",
        "dataBase = dataBase.drop(columns = [\"Km Atual\", \"Km Troca\"])"
      ],
      "execution_count": 8,
      "outputs": []
    },
    {
      "cell_type": "code",
      "metadata": {
        "id": "MjeglApupYBm",
        "colab": {
          "base_uri": "https://localhost:8080/",
          "height": 226
        },
        "outputId": "ba3dc6eb-0a09-44cf-d337-e17e7299f395"
      },
      "source": [
        "dataBase.head()"
      ],
      "execution_count": 9,
      "outputs": [
        {
          "output_type": "execute_result",
          "data": {
            "text/html": [
              "<div>\n",
              "<style scoped>\n",
              "    .dataframe tbody tr th:only-of-type {\n",
              "        vertical-align: middle;\n",
              "    }\n",
              "\n",
              "    .dataframe tbody tr th {\n",
              "        vertical-align: top;\n",
              "    }\n",
              "\n",
              "    .dataframe thead th {\n",
              "        text-align: right;\n",
              "    }\n",
              "</style>\n",
              "<table border=\"1\" class=\"dataframe\">\n",
              "  <thead>\n",
              "    <tr style=\"text-align: right;\">\n",
              "      <th></th>\n",
              "      <th>Fe</th>\n",
              "      <th>Cr</th>\n",
              "      <th>Pb</th>\n",
              "      <th>Cu</th>\n",
              "      <th>Sn</th>\n",
              "      <th>Al</th>\n",
              "      <th>Ni</th>\n",
              "      <th>Ag</th>\n",
              "      <th>Si</th>\n",
              "      <th>B</th>\n",
              "      <th>Na</th>\n",
              "      <th>Mg</th>\n",
              "      <th>Ca</th>\n",
              "      <th>Ba</th>\n",
              "      <th>P</th>\n",
              "      <th>Zn</th>\n",
              "      <th>Mo</th>\n",
              "      <th>Ti</th>\n",
              "      <th>V</th>\n",
              "      <th>K</th>\n",
              "      <th>Oxi</th>\n",
              "      <th>Nit</th>\n",
              "      <th>Sul</th>\n",
              "      <th>Ful</th>\n",
              "      <th>Agu</th>\n",
              "      <th>Gli</th>\n",
              "      <th>Dil</th>\n",
              "      <th>DiagComb</th>\n",
              "      <th>DiagCont</th>\n",
              "      <th>DiagCorr</th>\n",
              "      <th>Kms_Rodados</th>\n",
              "    </tr>\n",
              "  </thead>\n",
              "  <tbody>\n",
              "    <tr>\n",
              "      <th>0</th>\n",
              "      <td>87.0</td>\n",
              "      <td>15.0</td>\n",
              "      <td>7.0</td>\n",
              "      <td>8.0</td>\n",
              "      <td>8.0</td>\n",
              "      <td>2.0</td>\n",
              "      <td>0.0</td>\n",
              "      <td>0.0</td>\n",
              "      <td>7.0</td>\n",
              "      <td>0.0</td>\n",
              "      <td>196.0</td>\n",
              "      <td>586.0</td>\n",
              "      <td>1305.0</td>\n",
              "      <td>0.0</td>\n",
              "      <td>952.0</td>\n",
              "      <td>1182.0</td>\n",
              "      <td>0.0</td>\n",
              "      <td>0.0</td>\n",
              "      <td>0.0</td>\n",
              "      <td>4.0</td>\n",
              "      <td>0.03</td>\n",
              "      <td>0.06</td>\n",
              "      <td>0.21</td>\n",
              "      <td>1.13</td>\n",
              "      <td>0.1</td>\n",
              "      <td>0.08</td>\n",
              "      <td>2.0</td>\n",
              "      <td>0</td>\n",
              "      <td>0</td>\n",
              "      <td>0</td>\n",
              "      <td>74713.0</td>\n",
              "    </tr>\n",
              "    <tr>\n",
              "      <th>1</th>\n",
              "      <td>99.0</td>\n",
              "      <td>21.0</td>\n",
              "      <td>10.0</td>\n",
              "      <td>8.0</td>\n",
              "      <td>10.0</td>\n",
              "      <td>2.0</td>\n",
              "      <td>0.0</td>\n",
              "      <td>0.0</td>\n",
              "      <td>7.0</td>\n",
              "      <td>0.0</td>\n",
              "      <td>193.0</td>\n",
              "      <td>558.0</td>\n",
              "      <td>1284.0</td>\n",
              "      <td>0.0</td>\n",
              "      <td>949.0</td>\n",
              "      <td>1177.0</td>\n",
              "      <td>0.0</td>\n",
              "      <td>0.0</td>\n",
              "      <td>0.0</td>\n",
              "      <td>5.0</td>\n",
              "      <td>0.05</td>\n",
              "      <td>0.09</td>\n",
              "      <td>0.25</td>\n",
              "      <td>1.50</td>\n",
              "      <td>0.1</td>\n",
              "      <td>0.08</td>\n",
              "      <td>2.0</td>\n",
              "      <td>1</td>\n",
              "      <td>0</td>\n",
              "      <td>0</td>\n",
              "      <td>85509.0</td>\n",
              "    </tr>\n",
              "    <tr>\n",
              "      <th>2</th>\n",
              "      <td>146.0</td>\n",
              "      <td>5.0</td>\n",
              "      <td>13.0</td>\n",
              "      <td>5.0</td>\n",
              "      <td>6.0</td>\n",
              "      <td>15.0</td>\n",
              "      <td>1.0</td>\n",
              "      <td>0.0</td>\n",
              "      <td>15.0</td>\n",
              "      <td>0.0</td>\n",
              "      <td>242.0</td>\n",
              "      <td>676.0</td>\n",
              "      <td>1167.0</td>\n",
              "      <td>0.0</td>\n",
              "      <td>1038.0</td>\n",
              "      <td>1317.0</td>\n",
              "      <td>9.0</td>\n",
              "      <td>0.0</td>\n",
              "      <td>0.0</td>\n",
              "      <td>7.0</td>\n",
              "      <td>0.03</td>\n",
              "      <td>0.03</td>\n",
              "      <td>0.07</td>\n",
              "      <td>0.45</td>\n",
              "      <td>0.1</td>\n",
              "      <td>0.08</td>\n",
              "      <td>2.0</td>\n",
              "      <td>0</td>\n",
              "      <td>0</td>\n",
              "      <td>0</td>\n",
              "      <td>433243.0</td>\n",
              "    </tr>\n",
              "    <tr>\n",
              "      <th>3</th>\n",
              "      <td>181.0</td>\n",
              "      <td>6.0</td>\n",
              "      <td>18.0</td>\n",
              "      <td>4.0</td>\n",
              "      <td>7.0</td>\n",
              "      <td>14.0</td>\n",
              "      <td>1.0</td>\n",
              "      <td>0.0</td>\n",
              "      <td>17.0</td>\n",
              "      <td>0.0</td>\n",
              "      <td>269.0</td>\n",
              "      <td>846.0</td>\n",
              "      <td>1386.0</td>\n",
              "      <td>0.0</td>\n",
              "      <td>1233.0</td>\n",
              "      <td>1456.0</td>\n",
              "      <td>11.0</td>\n",
              "      <td>0.0</td>\n",
              "      <td>0.0</td>\n",
              "      <td>7.0</td>\n",
              "      <td>0.03</td>\n",
              "      <td>0.04</td>\n",
              "      <td>0.09</td>\n",
              "      <td>0.48</td>\n",
              "      <td>0.1</td>\n",
              "      <td>0.08</td>\n",
              "      <td>2.0</td>\n",
              "      <td>0</td>\n",
              "      <td>0</td>\n",
              "      <td>0</td>\n",
              "      <td>433010.0</td>\n",
              "    </tr>\n",
              "    <tr>\n",
              "      <th>4</th>\n",
              "      <td>243.0</td>\n",
              "      <td>10.0</td>\n",
              "      <td>34.0</td>\n",
              "      <td>11.0</td>\n",
              "      <td>9.0</td>\n",
              "      <td>24.0</td>\n",
              "      <td>1.0</td>\n",
              "      <td>0.0</td>\n",
              "      <td>24.0</td>\n",
              "      <td>0.0</td>\n",
              "      <td>261.0</td>\n",
              "      <td>784.0</td>\n",
              "      <td>1235.0</td>\n",
              "      <td>0.0</td>\n",
              "      <td>1146.0</td>\n",
              "      <td>1430.0</td>\n",
              "      <td>19.0</td>\n",
              "      <td>0.0</td>\n",
              "      <td>0.0</td>\n",
              "      <td>5.0</td>\n",
              "      <td>0.09</td>\n",
              "      <td>0.10</td>\n",
              "      <td>0.22</td>\n",
              "      <td>1.17</td>\n",
              "      <td>0.1</td>\n",
              "      <td>0.08</td>\n",
              "      <td>2.0</td>\n",
              "      <td>0</td>\n",
              "      <td>0</td>\n",
              "      <td>1</td>\n",
              "      <td>440311.0</td>\n",
              "    </tr>\n",
              "  </tbody>\n",
              "</table>\n",
              "</div>"
            ],
            "text/plain": [
              "      Fe    Cr    Pb    Cu  ...  DiagComb  DiagCont  DiagCorr  Kms_Rodados\n",
              "0   87.0  15.0   7.0   8.0  ...         0         0         0      74713.0\n",
              "1   99.0  21.0  10.0   8.0  ...         1         0         0      85509.0\n",
              "2  146.0   5.0  13.0   5.0  ...         0         0         0     433243.0\n",
              "3  181.0   6.0  18.0   4.0  ...         0         0         0     433010.0\n",
              "4  243.0  10.0  34.0  11.0  ...         0         0         1     440311.0\n",
              "\n",
              "[5 rows x 31 columns]"
            ]
          },
          "metadata": {},
          "execution_count": 9
        }
      ]
    },
    {
      "cell_type": "code",
      "metadata": {
        "id": "m5lqgmAgw16X"
      },
      "source": [
        "#Funções para auxiliar na preparação dos dados:\n",
        "def retirar_virgula(valor):\n",
        "  try:\n",
        "    return valor.replace(\",\", \".\")\n",
        "  except:\n",
        "    return valor\n",
        "\n",
        "def retirar_comparador(valor):\n",
        "  try:\n",
        "    return valor.replace(\"<\", \"\").replace(\">\", \"\")\n",
        "  except:\n",
        "    return valor"
      ],
      "execution_count": 10,
      "outputs": []
    },
    {
      "cell_type": "code",
      "metadata": {
        "id": "9VmfvNJ9y3zb"
      },
      "source": [
        "for col in dataBase.columns:\n",
        "  dataBase[col] = dataBase[col].apply(retirar_comparador)\n",
        "  dataBase[col] = dataBase[col].apply(retirar_virgula)"
      ],
      "execution_count": 11,
      "outputs": []
    },
    {
      "cell_type": "code",
      "metadata": {
        "colab": {
          "base_uri": "https://localhost:8080/",
          "height": 226
        },
        "id": "9QzgUgTpyEZq",
        "outputId": "af3ded9d-bfbf-4358-ee07-d5a86df088f4"
      },
      "source": [
        "dataBase.head()"
      ],
      "execution_count": 12,
      "outputs": [
        {
          "output_type": "execute_result",
          "data": {
            "text/html": [
              "<div>\n",
              "<style scoped>\n",
              "    .dataframe tbody tr th:only-of-type {\n",
              "        vertical-align: middle;\n",
              "    }\n",
              "\n",
              "    .dataframe tbody tr th {\n",
              "        vertical-align: top;\n",
              "    }\n",
              "\n",
              "    .dataframe thead th {\n",
              "        text-align: right;\n",
              "    }\n",
              "</style>\n",
              "<table border=\"1\" class=\"dataframe\">\n",
              "  <thead>\n",
              "    <tr style=\"text-align: right;\">\n",
              "      <th></th>\n",
              "      <th>Fe</th>\n",
              "      <th>Cr</th>\n",
              "      <th>Pb</th>\n",
              "      <th>Cu</th>\n",
              "      <th>Sn</th>\n",
              "      <th>Al</th>\n",
              "      <th>Ni</th>\n",
              "      <th>Ag</th>\n",
              "      <th>Si</th>\n",
              "      <th>B</th>\n",
              "      <th>Na</th>\n",
              "      <th>Mg</th>\n",
              "      <th>Ca</th>\n",
              "      <th>Ba</th>\n",
              "      <th>P</th>\n",
              "      <th>Zn</th>\n",
              "      <th>Mo</th>\n",
              "      <th>Ti</th>\n",
              "      <th>V</th>\n",
              "      <th>K</th>\n",
              "      <th>Oxi</th>\n",
              "      <th>Nit</th>\n",
              "      <th>Sul</th>\n",
              "      <th>Ful</th>\n",
              "      <th>Agu</th>\n",
              "      <th>Gli</th>\n",
              "      <th>Dil</th>\n",
              "      <th>DiagComb</th>\n",
              "      <th>DiagCont</th>\n",
              "      <th>DiagCorr</th>\n",
              "      <th>Kms_Rodados</th>\n",
              "    </tr>\n",
              "  </thead>\n",
              "  <tbody>\n",
              "    <tr>\n",
              "      <th>0</th>\n",
              "      <td>87.0</td>\n",
              "      <td>15.0</td>\n",
              "      <td>7.0</td>\n",
              "      <td>8.0</td>\n",
              "      <td>8.0</td>\n",
              "      <td>2.0</td>\n",
              "      <td>0.0</td>\n",
              "      <td>0.0</td>\n",
              "      <td>7.0</td>\n",
              "      <td>0.0</td>\n",
              "      <td>196.0</td>\n",
              "      <td>586.0</td>\n",
              "      <td>1305.0</td>\n",
              "      <td>0.0</td>\n",
              "      <td>952.0</td>\n",
              "      <td>1182.0</td>\n",
              "      <td>0.0</td>\n",
              "      <td>0.0</td>\n",
              "      <td>0.0</td>\n",
              "      <td>4.0</td>\n",
              "      <td>0.03</td>\n",
              "      <td>0.06</td>\n",
              "      <td>0.21</td>\n",
              "      <td>1.13</td>\n",
              "      <td>0.1</td>\n",
              "      <td>0.08</td>\n",
              "      <td>2.0</td>\n",
              "      <td>0</td>\n",
              "      <td>0</td>\n",
              "      <td>0</td>\n",
              "      <td>74713.0</td>\n",
              "    </tr>\n",
              "    <tr>\n",
              "      <th>1</th>\n",
              "      <td>99.0</td>\n",
              "      <td>21.0</td>\n",
              "      <td>10.0</td>\n",
              "      <td>8.0</td>\n",
              "      <td>10.0</td>\n",
              "      <td>2.0</td>\n",
              "      <td>0.0</td>\n",
              "      <td>0.0</td>\n",
              "      <td>7.0</td>\n",
              "      <td>0.0</td>\n",
              "      <td>193.0</td>\n",
              "      <td>558.0</td>\n",
              "      <td>1284.0</td>\n",
              "      <td>0.0</td>\n",
              "      <td>949.0</td>\n",
              "      <td>1177.0</td>\n",
              "      <td>0.0</td>\n",
              "      <td>0.0</td>\n",
              "      <td>0.0</td>\n",
              "      <td>5.0</td>\n",
              "      <td>0.05</td>\n",
              "      <td>0.09</td>\n",
              "      <td>0.25</td>\n",
              "      <td>1.50</td>\n",
              "      <td>0.1</td>\n",
              "      <td>0.08</td>\n",
              "      <td>2.0</td>\n",
              "      <td>1</td>\n",
              "      <td>0</td>\n",
              "      <td>0</td>\n",
              "      <td>85509.0</td>\n",
              "    </tr>\n",
              "    <tr>\n",
              "      <th>2</th>\n",
              "      <td>146.0</td>\n",
              "      <td>5.0</td>\n",
              "      <td>13.0</td>\n",
              "      <td>5.0</td>\n",
              "      <td>6.0</td>\n",
              "      <td>15.0</td>\n",
              "      <td>1.0</td>\n",
              "      <td>0.0</td>\n",
              "      <td>15.0</td>\n",
              "      <td>0.0</td>\n",
              "      <td>242.0</td>\n",
              "      <td>676.0</td>\n",
              "      <td>1167.0</td>\n",
              "      <td>0.0</td>\n",
              "      <td>1038.0</td>\n",
              "      <td>1317.0</td>\n",
              "      <td>9.0</td>\n",
              "      <td>0.0</td>\n",
              "      <td>0.0</td>\n",
              "      <td>7.0</td>\n",
              "      <td>0.03</td>\n",
              "      <td>0.03</td>\n",
              "      <td>0.07</td>\n",
              "      <td>0.45</td>\n",
              "      <td>0.1</td>\n",
              "      <td>0.08</td>\n",
              "      <td>2.0</td>\n",
              "      <td>0</td>\n",
              "      <td>0</td>\n",
              "      <td>0</td>\n",
              "      <td>433243.0</td>\n",
              "    </tr>\n",
              "    <tr>\n",
              "      <th>3</th>\n",
              "      <td>181.0</td>\n",
              "      <td>6.0</td>\n",
              "      <td>18.0</td>\n",
              "      <td>4.0</td>\n",
              "      <td>7.0</td>\n",
              "      <td>14.0</td>\n",
              "      <td>1.0</td>\n",
              "      <td>0.0</td>\n",
              "      <td>17.0</td>\n",
              "      <td>0.0</td>\n",
              "      <td>269.0</td>\n",
              "      <td>846.0</td>\n",
              "      <td>1386.0</td>\n",
              "      <td>0.0</td>\n",
              "      <td>1233.0</td>\n",
              "      <td>1456.0</td>\n",
              "      <td>11.0</td>\n",
              "      <td>0.0</td>\n",
              "      <td>0.0</td>\n",
              "      <td>7.0</td>\n",
              "      <td>0.03</td>\n",
              "      <td>0.04</td>\n",
              "      <td>0.09</td>\n",
              "      <td>0.48</td>\n",
              "      <td>0.1</td>\n",
              "      <td>0.08</td>\n",
              "      <td>2.0</td>\n",
              "      <td>0</td>\n",
              "      <td>0</td>\n",
              "      <td>0</td>\n",
              "      <td>433010.0</td>\n",
              "    </tr>\n",
              "    <tr>\n",
              "      <th>4</th>\n",
              "      <td>243.0</td>\n",
              "      <td>10.0</td>\n",
              "      <td>34.0</td>\n",
              "      <td>11.0</td>\n",
              "      <td>9.0</td>\n",
              "      <td>24.0</td>\n",
              "      <td>1.0</td>\n",
              "      <td>0.0</td>\n",
              "      <td>24.0</td>\n",
              "      <td>0.0</td>\n",
              "      <td>261.0</td>\n",
              "      <td>784.0</td>\n",
              "      <td>1235.0</td>\n",
              "      <td>0.0</td>\n",
              "      <td>1146.0</td>\n",
              "      <td>1430.0</td>\n",
              "      <td>19.0</td>\n",
              "      <td>0.0</td>\n",
              "      <td>0.0</td>\n",
              "      <td>5.0</td>\n",
              "      <td>0.09</td>\n",
              "      <td>0.10</td>\n",
              "      <td>0.22</td>\n",
              "      <td>1.17</td>\n",
              "      <td>0.1</td>\n",
              "      <td>0.08</td>\n",
              "      <td>2.0</td>\n",
              "      <td>0</td>\n",
              "      <td>0</td>\n",
              "      <td>1</td>\n",
              "      <td>440311.0</td>\n",
              "    </tr>\n",
              "  </tbody>\n",
              "</table>\n",
              "</div>"
            ],
            "text/plain": [
              "      Fe    Cr    Pb    Cu  ...  DiagComb  DiagCont  DiagCorr  Kms_Rodados\n",
              "0   87.0  15.0   7.0   8.0  ...         0         0         0      74713.0\n",
              "1   99.0  21.0  10.0   8.0  ...         1         0         0      85509.0\n",
              "2  146.0   5.0  13.0   5.0  ...         0         0         0     433243.0\n",
              "3  181.0   6.0  18.0   4.0  ...         0         0         0     433010.0\n",
              "4  243.0  10.0  34.0  11.0  ...         0         0         1     440311.0\n",
              "\n",
              "[5 rows x 31 columns]"
            ]
          },
          "metadata": {},
          "execution_count": 12
        }
      ]
    },
    {
      "cell_type": "code",
      "metadata": {
        "id": "yIwEjYaMz206"
      },
      "source": [
        "#Agora precisamos \"quantificar\" cada um dos diagnósticos. Podemos fazer desta forma:\n",
        "for col_diag in [\"DiagCorr\", \"DiagComb\", \"DiagCont\"]:\n",
        "  dataBase[col_diag] = dataBase[col_diag].replace(\"G\", 0).replace(\"Y\", 1).replace(\"R\", 2)"
      ],
      "execution_count": 13,
      "outputs": []
    },
    {
      "cell_type": "code",
      "metadata": {
        "colab": {
          "base_uri": "https://localhost:8080/",
          "height": 226
        },
        "id": "Lv16lUAv2NZ8",
        "outputId": "c0e1f24a-7314-4d71-c66a-1fc93f45e911"
      },
      "source": [
        "dataBase.head()"
      ],
      "execution_count": 14,
      "outputs": [
        {
          "output_type": "execute_result",
          "data": {
            "text/html": [
              "<div>\n",
              "<style scoped>\n",
              "    .dataframe tbody tr th:only-of-type {\n",
              "        vertical-align: middle;\n",
              "    }\n",
              "\n",
              "    .dataframe tbody tr th {\n",
              "        vertical-align: top;\n",
              "    }\n",
              "\n",
              "    .dataframe thead th {\n",
              "        text-align: right;\n",
              "    }\n",
              "</style>\n",
              "<table border=\"1\" class=\"dataframe\">\n",
              "  <thead>\n",
              "    <tr style=\"text-align: right;\">\n",
              "      <th></th>\n",
              "      <th>Fe</th>\n",
              "      <th>Cr</th>\n",
              "      <th>Pb</th>\n",
              "      <th>Cu</th>\n",
              "      <th>Sn</th>\n",
              "      <th>Al</th>\n",
              "      <th>Ni</th>\n",
              "      <th>Ag</th>\n",
              "      <th>Si</th>\n",
              "      <th>B</th>\n",
              "      <th>Na</th>\n",
              "      <th>Mg</th>\n",
              "      <th>Ca</th>\n",
              "      <th>Ba</th>\n",
              "      <th>P</th>\n",
              "      <th>Zn</th>\n",
              "      <th>Mo</th>\n",
              "      <th>Ti</th>\n",
              "      <th>V</th>\n",
              "      <th>K</th>\n",
              "      <th>Oxi</th>\n",
              "      <th>Nit</th>\n",
              "      <th>Sul</th>\n",
              "      <th>Ful</th>\n",
              "      <th>Agu</th>\n",
              "      <th>Gli</th>\n",
              "      <th>Dil</th>\n",
              "      <th>DiagComb</th>\n",
              "      <th>DiagCont</th>\n",
              "      <th>DiagCorr</th>\n",
              "      <th>Kms_Rodados</th>\n",
              "    </tr>\n",
              "  </thead>\n",
              "  <tbody>\n",
              "    <tr>\n",
              "      <th>0</th>\n",
              "      <td>87.0</td>\n",
              "      <td>15.0</td>\n",
              "      <td>7.0</td>\n",
              "      <td>8.0</td>\n",
              "      <td>8.0</td>\n",
              "      <td>2.0</td>\n",
              "      <td>0.0</td>\n",
              "      <td>0.0</td>\n",
              "      <td>7.0</td>\n",
              "      <td>0.0</td>\n",
              "      <td>196.0</td>\n",
              "      <td>586.0</td>\n",
              "      <td>1305.0</td>\n",
              "      <td>0.0</td>\n",
              "      <td>952.0</td>\n",
              "      <td>1182.0</td>\n",
              "      <td>0.0</td>\n",
              "      <td>0.0</td>\n",
              "      <td>0.0</td>\n",
              "      <td>4.0</td>\n",
              "      <td>0.03</td>\n",
              "      <td>0.06</td>\n",
              "      <td>0.21</td>\n",
              "      <td>1.13</td>\n",
              "      <td>0.1</td>\n",
              "      <td>0.08</td>\n",
              "      <td>2.0</td>\n",
              "      <td>0</td>\n",
              "      <td>0</td>\n",
              "      <td>0</td>\n",
              "      <td>74713.0</td>\n",
              "    </tr>\n",
              "    <tr>\n",
              "      <th>1</th>\n",
              "      <td>99.0</td>\n",
              "      <td>21.0</td>\n",
              "      <td>10.0</td>\n",
              "      <td>8.0</td>\n",
              "      <td>10.0</td>\n",
              "      <td>2.0</td>\n",
              "      <td>0.0</td>\n",
              "      <td>0.0</td>\n",
              "      <td>7.0</td>\n",
              "      <td>0.0</td>\n",
              "      <td>193.0</td>\n",
              "      <td>558.0</td>\n",
              "      <td>1284.0</td>\n",
              "      <td>0.0</td>\n",
              "      <td>949.0</td>\n",
              "      <td>1177.0</td>\n",
              "      <td>0.0</td>\n",
              "      <td>0.0</td>\n",
              "      <td>0.0</td>\n",
              "      <td>5.0</td>\n",
              "      <td>0.05</td>\n",
              "      <td>0.09</td>\n",
              "      <td>0.25</td>\n",
              "      <td>1.50</td>\n",
              "      <td>0.1</td>\n",
              "      <td>0.08</td>\n",
              "      <td>2.0</td>\n",
              "      <td>1</td>\n",
              "      <td>0</td>\n",
              "      <td>0</td>\n",
              "      <td>85509.0</td>\n",
              "    </tr>\n",
              "    <tr>\n",
              "      <th>2</th>\n",
              "      <td>146.0</td>\n",
              "      <td>5.0</td>\n",
              "      <td>13.0</td>\n",
              "      <td>5.0</td>\n",
              "      <td>6.0</td>\n",
              "      <td>15.0</td>\n",
              "      <td>1.0</td>\n",
              "      <td>0.0</td>\n",
              "      <td>15.0</td>\n",
              "      <td>0.0</td>\n",
              "      <td>242.0</td>\n",
              "      <td>676.0</td>\n",
              "      <td>1167.0</td>\n",
              "      <td>0.0</td>\n",
              "      <td>1038.0</td>\n",
              "      <td>1317.0</td>\n",
              "      <td>9.0</td>\n",
              "      <td>0.0</td>\n",
              "      <td>0.0</td>\n",
              "      <td>7.0</td>\n",
              "      <td>0.03</td>\n",
              "      <td>0.03</td>\n",
              "      <td>0.07</td>\n",
              "      <td>0.45</td>\n",
              "      <td>0.1</td>\n",
              "      <td>0.08</td>\n",
              "      <td>2.0</td>\n",
              "      <td>0</td>\n",
              "      <td>0</td>\n",
              "      <td>0</td>\n",
              "      <td>433243.0</td>\n",
              "    </tr>\n",
              "    <tr>\n",
              "      <th>3</th>\n",
              "      <td>181.0</td>\n",
              "      <td>6.0</td>\n",
              "      <td>18.0</td>\n",
              "      <td>4.0</td>\n",
              "      <td>7.0</td>\n",
              "      <td>14.0</td>\n",
              "      <td>1.0</td>\n",
              "      <td>0.0</td>\n",
              "      <td>17.0</td>\n",
              "      <td>0.0</td>\n",
              "      <td>269.0</td>\n",
              "      <td>846.0</td>\n",
              "      <td>1386.0</td>\n",
              "      <td>0.0</td>\n",
              "      <td>1233.0</td>\n",
              "      <td>1456.0</td>\n",
              "      <td>11.0</td>\n",
              "      <td>0.0</td>\n",
              "      <td>0.0</td>\n",
              "      <td>7.0</td>\n",
              "      <td>0.03</td>\n",
              "      <td>0.04</td>\n",
              "      <td>0.09</td>\n",
              "      <td>0.48</td>\n",
              "      <td>0.1</td>\n",
              "      <td>0.08</td>\n",
              "      <td>2.0</td>\n",
              "      <td>0</td>\n",
              "      <td>0</td>\n",
              "      <td>0</td>\n",
              "      <td>433010.0</td>\n",
              "    </tr>\n",
              "    <tr>\n",
              "      <th>4</th>\n",
              "      <td>243.0</td>\n",
              "      <td>10.0</td>\n",
              "      <td>34.0</td>\n",
              "      <td>11.0</td>\n",
              "      <td>9.0</td>\n",
              "      <td>24.0</td>\n",
              "      <td>1.0</td>\n",
              "      <td>0.0</td>\n",
              "      <td>24.0</td>\n",
              "      <td>0.0</td>\n",
              "      <td>261.0</td>\n",
              "      <td>784.0</td>\n",
              "      <td>1235.0</td>\n",
              "      <td>0.0</td>\n",
              "      <td>1146.0</td>\n",
              "      <td>1430.0</td>\n",
              "      <td>19.0</td>\n",
              "      <td>0.0</td>\n",
              "      <td>0.0</td>\n",
              "      <td>5.0</td>\n",
              "      <td>0.09</td>\n",
              "      <td>0.10</td>\n",
              "      <td>0.22</td>\n",
              "      <td>1.17</td>\n",
              "      <td>0.1</td>\n",
              "      <td>0.08</td>\n",
              "      <td>2.0</td>\n",
              "      <td>0</td>\n",
              "      <td>0</td>\n",
              "      <td>1</td>\n",
              "      <td>440311.0</td>\n",
              "    </tr>\n",
              "  </tbody>\n",
              "</table>\n",
              "</div>"
            ],
            "text/plain": [
              "      Fe    Cr    Pb    Cu  ...  DiagComb  DiagCont  DiagCorr  Kms_Rodados\n",
              "0   87.0  15.0   7.0   8.0  ...         0         0         0      74713.0\n",
              "1   99.0  21.0  10.0   8.0  ...         1         0         0      85509.0\n",
              "2  146.0   5.0  13.0   5.0  ...         0         0         0     433243.0\n",
              "3  181.0   6.0  18.0   4.0  ...         0         0         0     433010.0\n",
              "4  243.0  10.0  34.0  11.0  ...         0         0         1     440311.0\n",
              "\n",
              "[5 rows x 31 columns]"
            ]
          },
          "metadata": {},
          "execution_count": 14
        }
      ]
    },
    {
      "cell_type": "markdown",
      "metadata": {
        "id": "irkBPBFBL1fw"
      },
      "source": [
        "<h3> Avaliando agora o balanceamento entre as classes"
      ]
    },
    {
      "cell_type": "code",
      "metadata": {
        "colab": {
          "base_uri": "https://localhost:8080/"
        },
        "id": "hBf7Cvj-AGkb",
        "outputId": "258b8658-f444-41ac-efab-2a89bd2c9940"
      },
      "source": [
        "dataBase[\"DiagCorr\"].value_counts()"
      ],
      "execution_count": 15,
      "outputs": [
        {
          "output_type": "execute_result",
          "data": {
            "text/plain": [
              "0    2172\n",
              "1    1446\n",
              "2     867\n",
              "Name: DiagCorr, dtype: int64"
            ]
          },
          "metadata": {},
          "execution_count": 15
        }
      ]
    },
    {
      "cell_type": "code",
      "metadata": {
        "colab": {
          "base_uri": "https://localhost:8080/"
        },
        "id": "KvhLNHmAFIJX",
        "outputId": "4499fac6-9fd4-4807-92ea-709d236d867b"
      },
      "source": [
        "dataBase[\"DiagComb\"].value_counts()"
      ],
      "execution_count": 16,
      "outputs": [
        {
          "output_type": "execute_result",
          "data": {
            "text/plain": [
              "0    1801\n",
              "1    1435\n",
              "2    1249\n",
              "Name: DiagComb, dtype: int64"
            ]
          },
          "metadata": {},
          "execution_count": 16
        }
      ]
    },
    {
      "cell_type": "code",
      "metadata": {
        "colab": {
          "base_uri": "https://localhost:8080/"
        },
        "id": "kHG2bOU0FP8S",
        "outputId": "67f73228-9dce-4d14-cfcb-00d3827d95cc"
      },
      "source": [
        "dataBase[\"DiagCont\"].value_counts()"
      ],
      "execution_count": 17,
      "outputs": [
        {
          "output_type": "execute_result",
          "data": {
            "text/plain": [
              "0    2495\n",
              "1    1299\n",
              "2     691\n",
              "Name: DiagCont, dtype: int64"
            ]
          },
          "metadata": {},
          "execution_count": 17
        }
      ]
    },
    {
      "cell_type": "markdown",
      "metadata": {
        "id": "1gQxt3T5PHSX"
      },
      "source": [
        "<h3> Estamos quase prontos para treinar o modelo. Precisamos agora separar os dados que utilizaremos para treino e teste. \n",
        "<ul><li><h3>Para efetuar esta separação, uma boa prática é selecionar de maneira aleatória uma determinada proporção dos dados para treino e outra para teste, de modo a garantir que os dados selecionados sejam não-enviesados.</li>\n",
        "<li><h3>Esta seleção deve garantir que a base de dados de treinamento é suficientemente representativa, para que o algoritmo possa aprender os padrões necessários para resolver o problema</li>\n",
        "<li><h3>Deve garantir também que a base de dados de teste equivale ao mais próximo possível de situações reais: dados completamente desconhecidos, de nenhum modo existentes na base de dados de treino.</li>\n",
        "<li><h3>Por fim, uma proporção de 20 a 30% dos dados para teste é bastante usual para uma ampla variedade de problemas.</li></ul>"
      ]
    },
    {
      "cell_type": "code",
      "metadata": {
        "id": "moH644iu6D6W"
      },
      "source": [
        "from sklearn.model_selection import train_test_split"
      ],
      "execution_count": 18,
      "outputs": []
    },
    {
      "cell_type": "code",
      "metadata": {
        "id": "vAe5FBWpQ3V1"
      },
      "source": [
        "#Estamos selecionando aqui um target por vez para classificarmos, mas poderíamos fazer diferente.\n",
        "\n",
        "target = \"DiagCorr\"\n",
        "x = dataBase.drop(columns = [\"DiagCorr\", \"DiagComb\", \"DiagCont\"])\n",
        "y = dataBase[target]"
      ],
      "execution_count": 19,
      "outputs": []
    },
    {
      "cell_type": "code",
      "metadata": {
        "id": "etqnIq7lQ_kG"
      },
      "source": [
        "x_train, x_test, y_train, y_test = train_test_split(x, y, test_size=0.3)"
      ],
      "execution_count": 20,
      "outputs": []
    },
    {
      "cell_type": "markdown",
      "metadata": {
        "id": "yXS3eMndRHm8"
      },
      "source": [
        "#3 - Treinamento do modelo"
      ]
    },
    {
      "cell_type": "code",
      "metadata": {
        "id": "yz7R-2DGRQ9W"
      },
      "source": [
        "from sklearn.tree import DecisionTreeClassifier"
      ],
      "execution_count": 21,
      "outputs": []
    },
    {
      "cell_type": "code",
      "metadata": {
        "colab": {
          "base_uri": "https://localhost:8080/"
        },
        "id": "aqc85VIGQ40E",
        "outputId": "18f69f60-0856-4bab-c137-ddbbc7d69f64"
      },
      "source": [
        "model = DecisionTreeClassifier(max_depth=3)\n",
        "model.fit(x_train, y_train)"
      ],
      "execution_count": 22,
      "outputs": [
        {
          "output_type": "execute_result",
          "data": {
            "text/plain": [
              "DecisionTreeClassifier(ccp_alpha=0.0, class_weight=None, criterion='gini',\n",
              "                       max_depth=3, max_features=None, max_leaf_nodes=None,\n",
              "                       min_impurity_decrease=0.0, min_impurity_split=None,\n",
              "                       min_samples_leaf=1, min_samples_split=2,\n",
              "                       min_weight_fraction_leaf=0.0, presort='deprecated',\n",
              "                       random_state=None, splitter='best')"
            ]
          },
          "metadata": {},
          "execution_count": 22
        }
      ]
    },
    {
      "cell_type": "markdown",
      "metadata": {
        "id": "RDENhb_BRW4U"
      },
      "source": [
        "# 4 - Testando modelo"
      ]
    },
    {
      "cell_type": "code",
      "metadata": {
        "id": "Tr2k1iuaCw9B"
      },
      "source": [
        "y_predicted = model.predict(x_test)"
      ],
      "execution_count": 23,
      "outputs": []
    },
    {
      "cell_type": "code",
      "metadata": {
        "id": "1iZuI2GFCyw7"
      },
      "source": [
        "from sklearn.metrics import confusion_matrix"
      ],
      "execution_count": 24,
      "outputs": []
    },
    {
      "cell_type": "code",
      "metadata": {
        "id": "3VS7GTIzC0rv"
      },
      "source": [
        "matriz_confusao = confusion_matrix(y_test, y_predicted)"
      ],
      "execution_count": 25,
      "outputs": []
    },
    {
      "cell_type": "code",
      "metadata": {
        "colab": {
          "base_uri": "https://localhost:8080/",
          "height": 282
        },
        "id": "aTMIY5NWC16K",
        "outputId": "de52859b-3075-4df6-aea3-5f6e0618a77e"
      },
      "source": [
        "sns.heatmap(matriz_confusao, annot=True, xticklabels=[\"Green\", \"Yellow\", \"Red\"], yticklabels = [\"Green\", \"Yellow\", \"Red\"])"
      ],
      "execution_count": 26,
      "outputs": [
        {
          "output_type": "execute_result",
          "data": {
            "text/plain": [
              "<matplotlib.axes._subplots.AxesSubplot at 0x7fab29b96bd0>"
            ]
          },
          "metadata": {},
          "execution_count": 26
        },
        {
          "output_type": "display_data",
          "data": {
            "image/png": "[encoded data removed]",
            "text/plain": [
              "<Figure size 432x288 with 2 Axes>"
            ]
          },
          "metadata": {
            "needs_background": "light"
          }
        }
      ]
    },
    {
      "cell_type": "code",
      "metadata": {
        "colab": {
          "base_uri": "https://localhost:8080/"
        },
        "id": "W9PHm_hdKy4J",
        "outputId": "7a5d3ec0-f105-4771-82fd-6c393b8eae3a"
      },
      "source": [
        "print(\"Precisão - Classe Green: \")\n",
        "print(100 * matriz_confusao[0][0] / (matriz_confusao[0][0] + matriz_confusao[1][0] + matriz_confusao[2][0]), \"%\\n\")\n",
        "\n",
        "print(\"Precisão - Classe Yellow: \")\n",
        "print(100 * matriz_confusao[1][1] / (matriz_confusao[0][1] + matriz_confusao[1][1] + matriz_confusao[2][1]), \"%\\n\")\n",
        "\n",
        "print(\"Precisão - Classe Red: \")\n",
        "print(100 * matriz_confusao[2][2] / (matriz_confusao[0][2] + matriz_confusao[1][2] + matriz_confusao[2][2]), \"%\\n\")\n",
        "\n",
        "print(\"Acurácia: \")\n",
        "print(100 * (matriz_confusao[0][0] + matriz_confusao[1][1] + matriz_confusao[2][2]) / sum(sum(matriz_confusao)), \"%\")"
      ],
      "execution_count": 27,
      "outputs": [
        {
          "output_type": "stream",
          "name": "stdout",
          "text": [
            "Precisão - Classe Green: \n",
            "97.92 %\n",
            "\n",
            "Precisão - Classe Yellow: \n",
            "80.95238095238095 %\n",
            "\n",
            "Precisão - Classe Red: \n",
            "68.68131868131869 %\n",
            "\n",
            "Acurácia: \n",
            "85.51263001485884 %\n"
          ]
        }
      ]
    },
    {
      "cell_type": "code",
      "metadata": {
        "id": "hIR0Tl7WCyzg"
      },
      "source": [
        "from sklearn import tree"
      ],
      "execution_count": 28,
      "outputs": []
    },
    {
      "cell_type": "code",
      "metadata": {
        "colab": {
          "base_uri": "https://localhost:8080/",
          "height": 575
        },
        "id": "ZIl1yYSoJdYs",
        "outputId": "cdef83e0-9423-461d-ae0d-50352e933ea5"
      },
      "source": [
        "plt.figure(figsize=(20, 10))\n",
        "tree.plot_tree(model, feature_names= x_test.columns, \n",
        "               class_names=[\"Green\", \"Yellow\", \"Red\"], filled=True)\n",
        "plt.show()"
      ],
      "execution_count": 29,
      "outputs": [
        {
          "output_type": "display_data",
          "data": {
            "image/png": "[encoded data removed]",
            "text/plain": [
              "<Figure size 1440x720 with 1 Axes>"
            ]
          },
          "metadata": {
            "needs_background": "light"
          }
        }
      ]
    },
    {
      "cell_type": "markdown",
      "metadata": {
        "id": "PU4CWk-kTmVP"
      },
      "source": [
        "# O primeiro modelo já foi treinado e validado. Os resultados poderiam melhorar? Certamente! Agora vamos para a etapa: <br>\n",
        "#5 - Aprimorar"
      ]
    },
    {
      "cell_type": "markdown",
      "metadata": {
        "id": "2t6fzntLbhBi"
      },
      "source": [
        "<h3> Algoritmo RandomForest\n"
      ]
    },
    {
      "cell_type": "code",
      "metadata": {
        "id": "7uhjEyDkTgdG"
      },
      "source": [
        "from sklearn.ensemble import RandomForestClassifier"
      ],
      "execution_count": 30,
      "outputs": []
    },
    {
      "cell_type": "code",
      "metadata": {
        "colab": {
          "base_uri": "https://localhost:8080/"
        },
        "id": "F4AZTu-Ba9Ar",
        "outputId": "7c86b219-5096-4d26-851d-a477dedb548b"
      },
      "source": [
        "model = RandomForestClassifier()\n",
        "model.fit(x_train, y_train)"
      ],
      "execution_count": 31,
      "outputs": [
        {
          "output_type": "execute_result",
          "data": {
            "text/plain": [
              "RandomForestClassifier(bootstrap=True, ccp_alpha=0.0, class_weight=None,\n",
              "                       criterion='gini', max_depth=None, max_features='auto',\n",
              "                       max_leaf_nodes=None, max_samples=None,\n",
              "                       min_impurity_decrease=0.0, min_impurity_split=None,\n",
              "                       min_samples_leaf=1, min_samples_split=2,\n",
              "                       min_weight_fraction_leaf=0.0, n_estimators=100,\n",
              "                       n_jobs=None, oob_score=False, random_state=None,\n",
              "                       verbose=0, warm_start=False)"
            ]
          },
          "metadata": {},
          "execution_count": 31
        }
      ]
    },
    {
      "cell_type": "code",
      "metadata": {
        "id": "0EffrFtNbtN1"
      },
      "source": [
        "y_predicted = model.predict(x_test)"
      ],
      "execution_count": 32,
      "outputs": []
    },
    {
      "cell_type": "code",
      "metadata": {
        "id": "-DsR7FezbH7-"
      },
      "source": [
        "matriz_confusao = confusion_matrix(y_test, y_predicted)"
      ],
      "execution_count": 33,
      "outputs": []
    },
    {
      "cell_type": "code",
      "metadata": {
        "colab": {
          "base_uri": "https://localhost:8080/",
          "height": 282
        },
        "id": "GFvL7n3ObKs6",
        "outputId": "5a9b10e5-2612-4f5c-e45e-03d90c71befb"
      },
      "source": [
        "sns.heatmap(matriz_confusao, annot=True, xticklabels=[\"Green\", \"Yellow\", \"Red\"], yticklabels = [\"Green\", \"Yellow\", \"Red\"])"
      ],
      "execution_count": 34,
      "outputs": [
        {
          "output_type": "execute_result",
          "data": {
            "text/plain": [
              "<matplotlib.axes._subplots.AxesSubplot at 0x7fab295abe90>"
            ]
          },
          "metadata": {},
          "execution_count": 34
        },
        {
          "output_type": "display_data",
          "data": {
            "image/png": "[encoded data removed]",
            "text/plain": [
              "<Figure size 432x288 with 2 Axes>"
            ]
          },
          "metadata": {
            "needs_background": "light"
          }
        }
      ]
    },
    {
      "cell_type": "code",
      "metadata": {
        "colab": {
          "base_uri": "https://localhost:8080/"
        },
        "id": "7Ubr5n4TbRjw",
        "outputId": "232017e0-adb8-470a-e180-0f30e8d3ec40"
      },
      "source": [
        "print(\"Precisão - Classe Green: \")\n",
        "print(100 * matriz_confusao[0][0] / (matriz_confusao[0][0] + matriz_confusao[1][0] + matriz_confusao[2][0]), \"%\\n\")\n",
        "\n",
        "print(\"Precisão - Classe Yellow: \")\n",
        "print(100 * matriz_confusao[1][1] / (matriz_confusao[0][1] + matriz_confusao[1][1] + matriz_confusao[2][1]), \"%\\n\")\n",
        "\n",
        "print(\"Precisão - Classe Red: \")\n",
        "print(100 * matriz_confusao[2][2] / (matriz_confusao[0][2] + matriz_confusao[1][2] + matriz_confusao[2][2]), \"%\\n\")\n",
        "\n",
        "print(\"Acurácia: \")\n",
        "print(100 * (matriz_confusao[0][0] + matriz_confusao[1][1] + matriz_confusao[2][2]) / sum(sum(matriz_confusao)), \"%\")"
      ],
      "execution_count": 35,
      "outputs": [
        {
          "output_type": "stream",
          "name": "stdout",
          "text": [
            "Precisão - Classe Green: \n",
            "97.5 %\n",
            "\n",
            "Precisão - Classe Yellow: \n",
            "98.74371859296483 %\n",
            "\n",
            "Precisão - Classe Red: \n",
            "97.76119402985074 %\n",
            "\n",
            "Acurácia: \n",
            "97.91976225854383 %\n"
          ]
        }
      ]
    },
    {
      "cell_type": "markdown",
      "metadata": {
        "id": "oXgKB7N0blE_"
      },
      "source": [
        "<h3> Algoritmo XGBoost"
      ]
    },
    {
      "cell_type": "code",
      "metadata": {
        "id": "0XmNRJMSbfWl"
      },
      "source": [
        "import xgboost as xgb"
      ],
      "execution_count": 41,
      "outputs": []
    },
    {
      "cell_type": "code",
      "metadata": {
        "colab": {
          "base_uri": "https://localhost:8080/"
        },
        "id": "Fp5-Yzrgo0yM",
        "outputId": "c9ab8149-726c-4146-805b-bf8ebd69c8c3"
      },
      "source": [
        "model = xgb.XGBClassifier()\n",
        "model.fit(x_train, y_train)"
      ],
      "execution_count": 42,
      "outputs": [
        {
          "output_type": "execute_result",
          "data": {
            "text/plain": [
              "XGBClassifier(base_score=0.5, booster='gbtree', colsample_bylevel=1,\n",
              "              colsample_bynode=1, colsample_bytree=1, gamma=0,\n",
              "              learning_rate=0.1, max_delta_step=0, max_depth=3,\n",
              "              min_child_weight=1, missing=None, n_estimators=100, n_jobs=1,\n",
              "              nthread=None, objective='multi:softprob', random_state=0,\n",
              "              reg_alpha=0, reg_lambda=1, scale_pos_weight=1, seed=None,\n",
              "              silent=None, subsample=1, verbosity=1)"
            ]
          },
          "metadata": {},
          "execution_count": 42
        }
      ]
    },
    {
      "cell_type": "code",
      "metadata": {
        "id": "4ZwnAbgTo4Xo"
      },
      "source": [
        "y_predicted = model.predict(x_test)"
      ],
      "execution_count": 43,
      "outputs": []
    },
    {
      "cell_type": "code",
      "metadata": {
        "id": "mUl0nji-pAyW"
      },
      "source": [
        "matriz_confusao = confusion_matrix(y_test, y_predicted)"
      ],
      "execution_count": 44,
      "outputs": []
    },
    {
      "cell_type": "code",
      "metadata": {
        "colab": {
          "base_uri": "https://localhost:8080/",
          "height": 282
        },
        "id": "iNuFu1qNpCi_",
        "outputId": "9b97403e-26e4-4474-99ff-77d9887b89d5"
      },
      "source": [
        "sns.heatmap(matriz_confusao, annot=True, xticklabels=[\"Green\", \"Yellow\", \"Red\"], yticklabels = [\"Green\", \"Yellow\", \"Red\"])"
      ],
      "execution_count": 45,
      "outputs": [
        {
          "output_type": "execute_result",
          "data": {
            "text/plain": [
              "<matplotlib.axes._subplots.AxesSubplot at 0x7fab27909a90>"
            ]
          },
          "metadata": {},
          "execution_count": 45
        },
        {
          "output_type": "display_data",
          "data": {
            "image/png": "[encoded data removed]",
            "text/plain": [
              "<Figure size 432x288 with 2 Axes>"
            ]
          },
          "metadata": {
            "needs_background": "light"
          }
        }
      ]
    },
    {
      "cell_type": "code",
      "metadata": {
        "colab": {
          "base_uri": "https://localhost:8080/"
        },
        "id": "IPPMjB6Spien",
        "outputId": "9c27a39b-451c-4aa3-ca9b-79418a7d7028"
      },
      "source": [
        "print(\"Precisão - Classe Green: \")\n",
        "print(100 * matriz_confusao[0][0] / (matriz_confusao[0][0] + matriz_confusao[1][0] + matriz_confusao[2][0]), \"%\\n\")\n",
        "\n",
        "print(\"Precisão - Classe Yellow: \")\n",
        "print(100 * matriz_confusao[1][1] / (matriz_confusao[0][1] + matriz_confusao[1][1] + matriz_confusao[2][1]), \"%\\n\")\n",
        "\n",
        "print(\"Precisão - Classe Red: \")\n",
        "print(100 * matriz_confusao[2][2] / (matriz_confusao[0][2] + matriz_confusao[1][2] + matriz_confusao[2][2]), \"%\\n\")\n",
        "\n",
        "print(\"Acurácia: \")\n",
        "print(100 * (matriz_confusao[0][0] + matriz_confusao[1][1] + matriz_confusao[2][2]) / sum(sum(matriz_confusao)), \"%\")"
      ],
      "execution_count": 46,
      "outputs": [
        {
          "output_type": "stream",
          "name": "stdout",
          "text": [
            "Precisão - Classe Green: \n",
            "97.91976225854383 %\n",
            "\n",
            "Precisão - Classe Yellow: \n",
            "97.77777777777777 %\n",
            "\n",
            "Precisão - Classe Red: \n",
            "97.76119402985074 %\n",
            "\n",
            "Acurácia: \n",
            "97.84546805349183 %\n"
          ]
        }
      ]
    }
  ]
}